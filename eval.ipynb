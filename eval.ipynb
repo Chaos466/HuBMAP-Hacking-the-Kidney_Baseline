{
 "cells": [
  {
   "cell_type": "code",
   "execution_count": null,
   "metadata": {
    "collapsed": true
   },
   "outputs": [],
   "source": [
    "import numpy as np\n",
    "import cv2\n",
    "import os\n",
    "import tensorflow as tf\n",
    "import tifffile as tiff\n",
    "import pandas as pd\n",
    "from PIL import Image\n",
    "from models.model_summary import create_model\n",
    "from config import cfg\n",
    "from tqdm import tqdm\n",
    "from utils.visualization import vis_segmentation\n",
    "from utils.util import set_device\n"
   ]
  },
  {
   "cell_type": "code",
   "execution_count": null,
   "outputs": [],
   "source": [
    "# 图像转rle编码\n",
    "def mask2rle(mask, n=1):\n",
    "    pixels = mask.T.flatten()\n",
    "    encs = []\n",
    "    for i in range(1, n + 1):\n",
    "        p = (pixels == i).astype(np.int8)\n",
    "        if p.sum() == 0:\n",
    "            encs.append(np.nan)\n",
    "        else:\n",
    "            p = np.concatenate([[0], p, [0]])\n",
    "            runs = np.where(p[1:] != p[:-1])[0] + 1\n",
    "            runs[1::2] -= runs[::2]\n",
    "            encs.append(' '.join(str(x) for x in runs))\n",
    "    return encs"
   ],
   "metadata": {
    "collapsed": false,
    "pycharm": {
     "name": "#%%\n"
    }
   }
  },
  {
   "cell_type": "code",
   "execution_count": null,
   "outputs": [],
   "source": [
    "def eval_img():\n",
    "    tiff_dir = './dataset/hubmap-kidney-segmentation/test'\n",
    "\n",
    "    test_mask_path = './result/'\n",
    "    if not os.path.isdir(test_mask_path):\n",
    "        os.makedirs(test_mask_path)\n",
    "    target_size = (512, 512)\n",
    "    stride = 512\n",
    "    hstride = stride // 2\n",
    "    dis_wh = (target_size[0] - stride) // 2\n",
    "    resize = 0.5\n",
    "\n",
    "    test = pd.DataFrame(columns=['id', 'predicted'])\n",
    "\n",
    "    set_device()\n",
    "    model = create_model(cfg, name=cfg.MODEL_NAME, backbone=cfg.BACKBONE_NAME)\n",
    "\n",
    "    checkpoint = tf.train.Checkpoint(step=tf.Variable(0), net=model)\n",
    "    latest_checkpoint = tf.train.latest_checkpoint(cfg.CKPT_DIR)  # 会自动找到最近保存的变量文件\n",
    "    if latest_checkpoint is not None:\n",
    "        print(\"restore successful\")\n",
    "        checkpoint.restore(latest_checkpoint)  # 从文件恢复模型参数\n",
    "\n",
    "    @tf.function\n",
    "    def tta_interfence(y):\n",
    "        y = y / 255.\n",
    "        out_ = model(y, training=False)\n",
    "        # out_, _, _, _, _ = model(y, training=False)\n",
    "        return out_\n",
    "\n",
    "    for img in os.listdir(tiff_dir):\n",
    "        if not img.endswith('tiff'):\n",
    "            continue\n",
    "        image_path = os.path.join(tiff_dir, img)\n",
    "        image = np.asarray(tiff.imread(image_path))\n",
    "        if len(image.shape) == 5:\n",
    "            image = np.transpose(image.squeeze(), (1, 2, 0))\n",
    "        hh, ww = image.shape[0], image.shape[1]\n",
    "        image = cv2.resize(image, (int(image.shape[1] * resize), int(image.shape[0] * resize)))\n",
    "\n",
    "        # 填充外边界至步长整数倍\n",
    "        h, w = image.shape[0], image.shape[1]\n",
    "        target_w, target_h = target_size\n",
    "        new_w = (w // target_w) * target_w if (w % target_w == 0) else (w // target_w + 1) * target_w\n",
    "        new_h = (h // target_h) * target_h if (h % target_h == 0) else (h // target_h + 1) * target_h\n",
    "        image = cv2.copyMakeBorder(image, 0, new_h - h, 0, new_w - w, cv2.BORDER_CONSTANT, 0)\n",
    "\n",
    "        # 填充1/2 stride长度的外边框\n",
    "        new_w, new_h = image.shape[1] + stride, image.shape[0] + stride\n",
    "        image = cv2.copyMakeBorder(image, stride // 2, stride // 2, stride // 2, stride // 2, cv2.BORDER_CONSTANT, 0)\n",
    "        png = np.zeros((new_h, new_w), np.uint8)\n",
    "        image_old = np.zeros((new_h, new_w, 3), np.uint8)\n",
    "\n",
    "        h_, w_ = image.shape[0], image.shape[1]\n",
    "\n",
    "        for i in tqdm(range(w_ // stride - 1)):\n",
    "            for j in range(h_ // stride - 1):\n",
    "                topleft_x = i * stride\n",
    "                topleft_y = j * stride\n",
    "                buttomright_y = topleft_y + target_h\n",
    "                buttomright_x = topleft_x + target_h\n",
    "                crop_image = image[topleft_y:buttomright_y, topleft_x:buttomright_x]\n",
    "                if crop_image.shape[:2] != (target_h, target_h):\n",
    "                    print(topleft_x, topleft_y, crop_image.shape)\n",
    "\n",
    "                image_old[topleft_y + dis_wh:buttomright_y - dis_wh, topleft_x + dis_wh:buttomright_x - dis_wh] = \\\n",
    "                    crop_image[dis_wh:target_size[0] - dis_wh, dis_wh:target_size[1] - dis_wh]\n",
    "\n",
    "                crop_image = tf.cast(tf.expand_dims(crop_image, axis=0), dtype=tf.float32)\n",
    "                out = tta_interfence(crop_image)\n",
    "                out = np.squeeze(np.argmax(tf.math.softmax(out), axis=-1))\n",
    "                # cv2.imwrite(test_mask_path + img[:-4] + \"_\" + str(i) + str(j) + \".jpg\", out * 255)\n",
    "\n",
    "                png[topleft_y + dis_wh:buttomright_y - dis_wh, topleft_x + dis_wh:buttomright_x - dis_wh] = \\\n",
    "                    out[dis_wh:target_size[0] - dis_wh, dis_wh:target_size[1] - dis_wh]\n",
    "\n",
    "                x = out[dis_wh:target_size[0] - dis_wh, dis_wh:target_size[1] - dis_wh]\n",
    "\n",
    "        png = png[hstride:new_h - hstride, hstride:new_w - hstride]\n",
    "        png = png[:h, :w]\n",
    "        # png = png * 255\n",
    "        png = cv2.resize(png, (ww, hh), cv2.INTER_NEAREST)\n",
    "        cv2.imwrite(test_mask_path + img[:-5] + '_mask.png', png * 255)\n",
    "\n",
    "        image_old = image_old[hstride:new_h - hstride, hstride:new_w - hstride]\n",
    "        image_old = image_old[:h, :w]\n",
    "        image_old = cv2.resize(image_old, (ww, hh))\n",
    "        cv2.imwrite(test_mask_path + img[:-5] + '.png', image_old)\n",
    "        # vis_segmentation(np.array(image_old).astype(np.int64), png, ['yin', 'yang'])\n",
    "\n",
    "        encs = mask2rle(png)\n",
    "        new = pd.DataFrame({'id': [img], 'predicted': [encs[0]]}, index=[1])\n",
    "        test = test.append(new, ignore_index=True)\n",
    "\n",
    "    test.to_csv('submission.csv', sep=',', index=False)"
   ],
   "metadata": {
    "collapsed": false,
    "pycharm": {
     "name": "#%%\n"
    }
   }
  },
  {
   "cell_type": "code",
   "execution_count": null,
   "outputs": [],
   "source": [
    "eval_img()"
   ],
   "metadata": {
    "collapsed": false,
    "pycharm": {
     "name": "#%%\n"
    }
   }
  }
 ],
 "metadata": {
  "kernelspec": {
   "display_name": "Python 3",
   "language": "python",
   "name": "python3"
  },
  "language_info": {
   "codemirror_mode": {
    "name": "ipython",
    "version": 2
   },
   "file_extension": ".py",
   "mimetype": "text/x-python",
   "name": "python",
   "nbconvert_exporter": "python",
   "pygments_lexer": "ipython2",
   "version": "2.7.6"
  }
 },
 "nbformat": 4,
 "nbformat_minor": 0
}